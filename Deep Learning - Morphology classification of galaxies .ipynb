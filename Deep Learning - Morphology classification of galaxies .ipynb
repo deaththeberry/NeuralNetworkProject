{
 "cells": [
  {
   "cell_type": "markdown",
   "metadata": {
    "slideshow": {
     "slide_type": "skip"
    }
   },
   "source": [
    "**Group Members: Christ-Brian Amedjonekou, Emmanuel Gil**  \n",
    "**Date: 05/16/2019**  \n",
    "**PHYS 3600ID-D862 (Machine Learning) Final Project**  \n",
    "**Spring 2019, Section: D862, Code: 37026**  \n",
    "**Instructor: Viviana Acquaviva** "
   ]
  },
  {
   "cell_type": "markdown",
   "metadata": {
    "slideshow": {
     "slide_type": "slide"
    }
   },
   "source": [
    "## Morphology of Galaxies via Convolutional Neural Network\n",
    "\n",
    "### Abstract:\n",
    "\n",
    "For this project, we set out to create a Deep Learning Model, specifically a Convoluational Neural Network (CNN), to analyze the morphology classification of galaxies. The goal of this assignment is to act as a introduction to Deep Learning, and Neural Networks. We are expected to present the results of our implementation of the CNN. This includes the algorithm itself, parameter validation, generalization errors, and visualizations. Python, specifically Google's open source ***TensorFlow***, is used to create and implement the CNN for this problem. We will give you an overview of our experience playing around with tutorials/examples (Rock-Paper-Scissors) then show the results for the morphology classification of galaxies."
   ]
  },
  {
   "cell_type": "markdown",
   "metadata": {
    "slideshow": {
     "slide_type": "slide"
    }
   },
   "source": [
    "### Introduction: What is Deep Learning/Tensorflow?\n",
    "\n",
    "#### Deep Learning\n",
    "\n",
    "* Deep learning is a class of machine learning algorithms that use multiple layers to progressively extract higher level features from raw input. For example, in image processing, lower layers may identify edges, while higher layer may identify human-meaningful items such as digits/letters or faces [$[1]$](#Sources).\n",
    "\n",
    "\n",
    "* Learning can be supervised, semi-supervised or unsupervised [$[1]$](#Sources).\n",
    "\n",
    "#### Tensorflow\n",
    "\n",
    "* ***HOMLST Definition:*** Tensorflow is a powerful open source software library for numerical computation [$[2]$](#Sources). \n",
    "\n",
    "\n",
    "* ***Wiki Definition:*** TensorFlow is a free and open-source software library for dataflow and differentiable programming across a range of tasks. It is a symbolic math library, and is also used for machine learning applications such as neural networks [$[3]$](#Sources). \n",
    "\n",
    "\n",
    "* It's generally used for large scale Machine Learning. \n",
    "\n",
    "* Developed by the Google Brain Team and powers the services: include Google Clound Speech, Google Photos, and Google Search."
   ]
  },
  {
   "cell_type": "markdown",
   "metadata": {
    "slideshow": {
     "slide_type": "subslide"
    }
   },
   "source": [
    "### Introduction: How To \"Tensorflow\"? Creating your First Graph.\n",
    "\n",
    "* TensorFlow is built on this simple principle: defining graphs using Python which a C++ bankend executes, spitting out a result. The reason for this is because C++ is more efficient in managing computer resources. \n",
    "\n",
    "**Example Graph:**\n",
    "\n",
    "<img src= \"https://www.oreilly.com/library/view/getting-started-with/9781491978757/assets/mlst_0901.png\" width= 300 height= 300>\n",
    "\n",
    "\n",
    "* Implementing the Graphs in TensorFlow is typically split into two parts (note: Graphs built in TensorFlow are called TensorFlow programs.):\n",
    "\n",
    "    1. Building the graph (using python). \n",
    "    2. Executing the graph (using the C++ backend)."
   ]
  },
  {
   "cell_type": "code",
   "execution_count": 5,
   "metadata": {
    "slideshow": {
     "slide_type": "skip"
    }
   },
   "outputs": [],
   "source": [
    "import numpy as np\n",
    "import pandas as pd\n",
    "import matplotlib.pyplot as plt\n",
    "import tensorflow as tf"
   ]
  },
  {
   "cell_type": "markdown",
   "metadata": {
    "slideshow": {
     "slide_type": "subslide"
    }
   },
   "source": [
    "### Tensorflow Implementation of the Example: Imports\n",
    "\n",
    "* We'll import Tensorflow using this command: `import tensorflow as tf`\n",
    "\n",
    "**Tensorflow Implementation Part 1: Building the graph**\n",
    "\n",
    "* Here we use the following code to create/build the graph.\n",
    "* Important thing to note is that this code does not actually perform any computation, or initialization for that matter. We'll need to create a session for execution."
   ]
  },
  {
   "cell_type": "code",
   "execution_count": 2,
   "metadata": {
    "slideshow": {
     "slide_type": "fragment"
    }
   },
   "outputs": [],
   "source": [
    "# Declares Variables for the Graph\n",
    "x = tf.Variable(3, name= 'x')\n",
    "y = tf.Variable(4, name= 'y')\n",
    "f = x*x*y + y + 2"
   ]
  },
  {
   "cell_type": "markdown",
   "metadata": {
    "slideshow": {
     "slide_type": "subslide"
    }
   },
   "source": [
    "**Tensorflow Implementation Part 2: Execution of the Graph**\n",
    "\n",
    "* To execute we'll need to create a ***TensorFlow session*** to initialize the variables and evaluate the graph. \n",
    "\n",
    "\n",
    "* A TensorFlow session takes care of placing the operations onto devices such as CPUs and GPUs and running them, and holds all variable values.\n",
    "\n",
    "\n",
    "* A TensorFlow session can be executed using one of the following methods: \n",
    "\n",
    "\n",
    "\n",
    "**Method 1: Basic Method**\n",
    "\n",
    "* Initialize the variables\n",
    "* Evaluate the Graph \n",
    "* Running line 7: `sess.close()` closes the session (which frees up resources)\n",
    "\n",
    "* **Disadvantages: `sess.run()` needs to be used repeatedly to run the session (it's annoying)**"
   ]
  },
  {
   "cell_type": "code",
   "execution_count": 7,
   "metadata": {
    "slideshow": {
     "slide_type": "fragment"
    }
   },
   "outputs": [
    {
     "name": "stdout",
     "output_type": "stream",
     "text": [
      "Result: 42\n"
     ]
    }
   ],
   "source": [
    "# Basic Method: Opens/Runs a session, executes the graph, closes the session \n",
    "sess = tf.Session()\n",
    "sess.run(x.initializer)\n",
    "sess.run(y.initializer)\n",
    "result = sess.run(f)\n",
    "print('Result:',result)\n",
    "sess.close()"
   ]
  },
  {
   "cell_type": "markdown",
   "metadata": {
    "slideshow": {
     "slide_type": "notes"
    }
   },
   "source": [
    "1. open a session \n",
    "2. initialize the variables using `sess.run()` and `.initializer`\n",
    "3. use `sess.run()` again to execute the graph\n",
    "4. print the result\n",
    "5. close the session"
   ]
  },
  {
   "cell_type": "markdown",
   "metadata": {
    "slideshow": {
     "slide_type": "subslide"
    }
   },
   "source": [
    "**Method 2: `with` Statement Method**\n",
    "\n",
    "* Initialize the variables\n",
    "* Evaluate the Graph \n",
    "\n",
    "\n",
    "* **Advantages:**\n",
    "    * `sess.run()` doesn't need to be used repeatedly to run the session.\n",
    "    *  When the `with` block ends, the session terminates. Don't have run line 7: `sess.close()` in previous example.\n",
    "    * Saves some time and some lines of code. Not cumbersome.\n",
    "    \n",
    "    \n",
    "* **Disadvantages:**\n",
    "    * Runs the initializer for every single variable"
   ]
  },
  {
   "cell_type": "code",
   "execution_count": 5,
   "metadata": {
    "slideshow": {
     "slide_type": "fragment"
    }
   },
   "outputs": [
    {
     "name": "stdout",
     "output_type": "stream",
     "text": [
      "Result: 42\n"
     ]
    }
   ],
   "source": [
    "# Opens/Runs a session w/ a \"with\" statement\n",
    "with tf.Session() as sess:\n",
    "    x.initializer.run()\n",
    "    y.initializer.run()\n",
    "    result = f.eval()\n",
    "    \n",
    "print('Result:',result)"
   ]
  },
  {
   "cell_type": "markdown",
   "metadata": {
    "slideshow": {
     "slide_type": "notes"
    }
   },
   "source": [
    "1. open a session w/ `with` statement\n",
    "2. `with` statement initializes the variables using `.initializer.run()`\n",
    "3. Executes the graph w/ `.eval()` and closes the session\n",
    "4. Then we print the result"
   ]
  },
  {
   "cell_type": "markdown",
   "metadata": {
    "slideshow": {
     "slide_type": "subslide"
    }
   },
   "source": [
    "**Method 3: `with` Statement Method w/ Global Initialization**\n",
    "\n",
    "* Initialize the variables\n",
    "* Evaluate the Graph \n",
    "\n",
    "\n",
    "* **Advantages:**\n",
    "    * `sess.run()` doesn't need to be used repeatedly to run the session.\n",
    "    *  When the `with` block ends, the session terminates. Don't have run line 7: `sess.close()` in previous example\n",
    "    * Simpler code\n",
    "    * Don't have to initialize each variable when within the `with` statement. \n",
    "    \n"
   ]
  },
  {
   "cell_type": "code",
   "execution_count": 8,
   "metadata": {
    "slideshow": {
     "slide_type": "fragment"
    }
   },
   "outputs": [
    {
     "name": "stdout",
     "output_type": "stream",
     "text": [
      "Result: 42\n"
     ]
    }
   ],
   "source": [
    "# Globally initializes all variables\n",
    "init = tf.global_variables_initializer() \n",
    "\n",
    "# Opens/Runs a session w/ a \"with\" statement\n",
    "with tf.Session() as sess:\n",
    "    init.run() \n",
    "    result = f.eval()\n",
    "\n",
    "print('Result:',result)"
   ]
  },
  {
   "cell_type": "markdown",
   "metadata": {
    "slideshow": {
     "slide_type": "notes"
    }
   },
   "source": [
    "1. open a session w/ `with` statement\n",
    "2. `with` statement runs the global initializer using `init.run()`\n",
    "3. Executes the graph w/ `.eval()` and closes the session.\n",
    "4. Then we print the result"
   ]
  },
  {
   "cell_type": "markdown",
   "metadata": {
    "slideshow": {
     "slide_type": "subslide"
    }
   },
   "source": [
    "### Sources\n",
    "\n",
    "1. Géron, A. (2017). Hands-on machine learning with Scikit-Learn and TensorFlow : concepts, tools, and techniques to build intelligent systems. Sebastopol, CA: O'Reilly Media. ISBN: 978-1491962299 \n",
    "\n",
    "\n",
    "2. OllegnOllegn 9442816, Dgadga 18.4k33847, Salvador DaliSalvador Dali 122k87523617, Alyssa HaroldsenAlyssa Haroldsen 2, & Prostiprosti 7. (n.d.). TensorFlow, why was python the chosen language? Retrieved from https://stackoverflow.com/questions/35677724/tensorflow-why-was-python-the-chosen-language\n",
    "\n",
    "\n",
    "3. Wikipedia contributors. (2019, May 10). Deep learning. In Wikipedia, The Free Encyclopedia. Retrieved 14:37, May 17, 2019, from https://en.wikipedia.org/w/index.php?title=Deep_learning&oldid=896400229\n",
    " \n",
    "\n",
    "4. Wikipedia contributors. (2019, May 7). TensorFlow. In Wikipedia, The Free Encyclopedia. Retrieved 02:25, May 19, 2019, from https://en.wikipedia.org/w/index.php?title=TensorFlow&oldid=895937291"
   ]
  }
 ],
 "metadata": {
  "celltoolbar": "Slideshow",
  "kernelspec": {
   "display_name": "Python 3",
   "language": "python",
   "name": "python3"
  },
  "language_info": {
   "codemirror_mode": {
    "name": "ipython",
    "version": 3
   },
   "file_extension": ".py",
   "mimetype": "text/x-python",
   "name": "python",
   "nbconvert_exporter": "python",
   "pygments_lexer": "ipython3",
   "version": "3.6.7"
  }
 },
 "nbformat": 4,
 "nbformat_minor": 2
}
